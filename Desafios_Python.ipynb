{
  "nbformat": 4,
  "nbformat_minor": 0,
  "metadata": {
    "colab": {
      "provenance": [],
      "authorship_tag": "ABX9TyMF2KRUFCG7w6xz3kU4jMJV",
      "include_colab_link": true
    },
    "kernelspec": {
      "name": "python3",
      "display_name": "Python 3"
    },
    "language_info": {
      "name": "python"
    }
  },
  "cells": [
    {
      "cell_type": "markdown",
      "metadata": {
        "id": "view-in-github",
        "colab_type": "text"
      },
      "source": [
        "<a href=\"https://colab.research.google.com/github/samis-stark/Desafios_Python/blob/main/Desafios_Python.ipynb\" target=\"_parent\"><img src=\"https://colab.research.google.com/assets/colab-badge.svg\" alt=\"Open In Colab\"/></a>"
      ]
    },
    {
      "cell_type": "code",
      "source": [
        "# 1. Calcular quantos dias um produto duraria se a pessoa usar X porçõess por dia.\n",
        "\n",
        "total_porcoes= int(input('Quantas porções o produto tem? '))\n",
        "porcoes_por_dia= int(input('Quantas porções você usa por dia? '))\n",
        "\n",
        "dias= total_porcoes / porcoes_por_dia\n",
        "\n",
        "print (f'O produto vai durar {int(dias)} dias') # 1° maneira de chegar ao resultado sem decimal\n",
        "print (f'O produto vai durar {dias:.0f} dias') # 2° maneira \""
      ],
      "metadata": {
        "colab": {
          "base_uri": "https://localhost:8080/"
        },
        "id": "M95tLH_Ek-qz",
        "outputId": "61511013-4ffe-4df2-fe96-d69ce9d97375"
      },
      "execution_count": 3,
      "outputs": [
        {
          "output_type": "stream",
          "name": "stdout",
          "text": [
            "Quantas porções o produto tem? 300\n",
            "Quantas porções você usa por dia? 5\n",
            "O produto vai durar 60 dias\n",
            "O produto vai durar 60 dias\n"
          ]
        }
      ]
    },
    {
      "cell_type": "code",
      "source": [
        "# 2. Verificar se uma pessoa é maior ou menor de idade\n",
        "# Para esta soluçao, foi usado o True/False e o IF/ELSE\n",
        "\n",
        "Idade= int (input('Você tem quantos anos? '))\n",
        "print(f'Você é maior de idade? {Idade >=18}')\n",
        "\n",
        "Idade= int (input('Você tem quantos anos? '))\n",
        "print(f'Você é maior de idade? {Idade >=18} ')\n",
        "\n",
        "Idade= int(input('Qual é a sua idade? '))\n",
        "if Idade >=18:\n",
        "  print(\"Você é maior de idade\")\n",
        "else:\n",
        "  print('Você é menor de idade')\n"
      ],
      "metadata": {
        "colab": {
          "base_uri": "https://localhost:8080/"
        },
        "id": "7aFOJxczxIYl",
        "outputId": "313ef5d1-d322-43cd-bdbc-0a8ef130b66f"
      },
      "execution_count": 5,
      "outputs": [
        {
          "output_type": "stream",
          "name": "stdout",
          "text": [
            "Você tem quantos anos? 12\n",
            "Você é maior de idade? False\n",
            "Você tem quantos anos? 18\n",
            "Você é maior de idade? True \n",
            "Qual é a sua idade? 20\n",
            "Você é maior de idade\n"
          ]
        }
      ]
    },
    {
      "cell_type": "code",
      "source": [
        "# 3. Login de acesso 1.0\n",
        "\n",
        "usuario = input('Digite o seu usuário:')\n",
        "senha = input('Digite a sua senha: ')\n",
        "\n",
        "login_valido = usuario == 'Admin' and senha == \"123admin\"\n",
        "\n",
        "print (f'Login valido: {login_valido}')"
      ],
      "metadata": {
        "colab": {
          "base_uri": "https://localhost:8080/"
        },
        "id": "1pBbQ6zd-9AV",
        "outputId": "c02b46b2-6109-4a0d-9501-1566b128ab0a"
      },
      "execution_count": 6,
      "outputs": [
        {
          "output_type": "stream",
          "name": "stdout",
          "text": [
            "Digite o seu usuário:Adimin\n",
            "Digite a sua senha: 123admin\n",
            "Login valido: False\n"
          ]
        }
      ]
    },
    {
      "cell_type": "code",
      "source": [
        "# 4. Login de acesso 2.0\n",
        "\n",
        "usuario = input(\"Digite o seu usuário: \")\n",
        "senha = input('Digite a sua senha: ')\n",
        "\n",
        "if usuario == \"admin\" and senha == \"123admin\":\n",
        "  print(\"Seja bem vindo ao site\")\n",
        "else:\n",
        "  print(\"Senha ou usuário incorretos\")"
      ],
      "metadata": {
        "colab": {
          "base_uri": "https://localhost:8080/"
        },
        "id": "i-eTfpDN4hMj",
        "outputId": "7940887b-1273-4e46-ef9b-e7824c7b2f2c"
      },
      "execution_count": 15,
      "outputs": [
        {
          "output_type": "stream",
          "name": "stdout",
          "text": [
            "Digite o seu usuário: admin\n",
            "Digite a sua senha: 123admin\n",
            "Seja bem vindo ao site\n"
          ]
        }
      ]
    },
    {
      "cell_type": "code",
      "source": [
        "# 5. Login de acesso 3.0 - Para menores de idade\n",
        "\n",
        "idade = int(input(\"Qual é a sua idade? \"))\n",
        "\n",
        "if idade >= 18:\n",
        "    print(\"Acesso permitido. Seja bem-vindo ao site.\")\n",
        "elif idade < 18:\n",
        "    autorizacao = input(\"Você tem a liberação dos seus pais? \").lower()\n",
        "    if autorizacao == \"sim\":\n",
        "        print(\"Um e-mail de alerta foi enviado para os seus pais.\")\n",
        "        print(\"Seja bem-vindo ao site.\")\n",
        "    else:\n",
        "        print(\"Acesso negado.\")\n",
        "else:\n",
        "    print(\"Acesso negado.\")"
      ],
      "metadata": {
        "colab": {
          "base_uri": "https://localhost:8080/"
        },
        "id": "8UoHiSto6oa_",
        "outputId": "649a2faa-eb0e-4546-f3f2-838dfa205d28"
      },
      "execution_count": 56,
      "outputs": [
        {
          "output_type": "stream",
          "name": "stdout",
          "text": [
            "Qual é a sua idade? 15\n",
            "Você tem a liberação dos seus pais? não\n",
            "Acesso negado.\n"
          ]
        }
      ]
    }
  ]
}