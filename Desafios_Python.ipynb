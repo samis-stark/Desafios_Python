{
  "nbformat": 4,
  "nbformat_minor": 0,
  "metadata": {
    "colab": {
      "provenance": [],
      "authorship_tag": "ABX9TyPKW/tGT2ZUNxN/J1CNjcvO",
      "include_colab_link": true
    },
    "kernelspec": {
      "name": "python3",
      "display_name": "Python 3"
    },
    "language_info": {
      "name": "python"
    }
  },
  "cells": [
    {
      "cell_type": "markdown",
      "metadata": {
        "id": "view-in-github",
        "colab_type": "text"
      },
      "source": [
        "<a href=\"https://colab.research.google.com/github/samis-stark/Desafios_Python/blob/main/Desafios_Python.ipynb\" target=\"_parent\"><img src=\"https://colab.research.google.com/assets/colab-badge.svg\" alt=\"Open In Colab\"/></a>"
      ]
    },
    {
      "cell_type": "code",
      "source": [
        "# 1. Calcular quantos dias um produto duraria se a pessoa usar X porçõess por dia.\n",
        "\n",
        "total_porcoes= int(input('Quantas porções o produto tem? '))\n",
        "porcoes_por_dia= int(input('Quantas porções você usa por dia? '))\n",
        "\n",
        "dias= total_porcoes / porcoes_por_dia\n",
        "\n",
        "print (f'O produto vai durar {int(dias)} dias') # 1° maneira de chegar ao resultado sem decimal\n",
        "print (f'O produto vai durar {dias:.0f} dias') # 2° maneira \""
      ],
      "metadata": {
        "colab": {
          "base_uri": "https://localhost:8080/"
        },
        "id": "M95tLH_Ek-qz",
        "outputId": "61511013-4ffe-4df2-fe96-d69ce9d97375"
      },
      "execution_count": 3,
      "outputs": [
        {
          "output_type": "stream",
          "name": "stdout",
          "text": [
            "Quantas porções o produto tem? 300\n",
            "Quantas porções você usa por dia? 5\n",
            "O produto vai durar 60 dias\n",
            "O produto vai durar 60 dias\n"
          ]
        }
      ]
    }
  ]
}